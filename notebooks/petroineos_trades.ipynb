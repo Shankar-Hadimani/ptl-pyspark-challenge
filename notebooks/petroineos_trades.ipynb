{
 "cells": [
  {
   "cell_type": "code",
   "execution_count": 1,
   "id": "73ae978c",
   "metadata": {},
   "outputs": [
    {
     "name": "stdout",
     "output_type": "stream",
     "text": [
      "Python 3.7.13\n"
     ]
    }
   ],
   "source": [
    "!python -V"
   ]
  },
  {
   "cell_type": "code",
   "execution_count": 2,
   "id": "388b7991",
   "metadata": {},
   "outputs": [
    {
     "name": "stdout",
     "output_type": "stream",
     "text": [
      "Requirement already satisfied: pythonnet in c:\\users\\sd991188\\anaconda3\\envs\\petroineos\\lib\\site-packages (2.5.2)\n",
      "Requirement already satisfied: pycparser in c:\\users\\sd991188\\anaconda3\\envs\\petroineos\\lib\\site-packages (from pythonnet) (2.21)\n"
     ]
    }
   ],
   "source": [
    "!pip install pythonnet"
   ]
  },
  {
   "cell_type": "code",
   "execution_count": 2,
   "id": "89891404",
   "metadata": {},
   "outputs": [],
   "source": [
    "import clr\n",
    "import sys\n",
    "import os"
   ]
  },
  {
   "cell_type": "code",
   "execution_count": 7,
   "id": "b6a15e97",
   "metadata": {},
   "outputs": [],
   "source": [
    "# os.path.dirname(os.path.abspath(\"__file__\"))"
   ]
  },
  {
   "cell_type": "code",
   "execution_count": 3,
   "id": "6d31f497",
   "metadata": {},
   "outputs": [
    {
     "data": {
      "text/plain": [
       "<System.Reflection.RuntimeAssembly object at 0x0000017BCAA086C8>"
      ]
     },
     "execution_count": 3,
     "metadata": {},
     "output_type": "execute_result"
    }
   ],
   "source": [
    "clr.AddReference(\"PowerService\")"
   ]
  },
  {
   "cell_type": "code",
   "execution_count": 4,
   "id": "726b38cd",
   "metadata": {},
   "outputs": [],
   "source": [
    "# From NameSpace_Name import class_Name\n",
    "from Services  import PowerService"
   ]
  },
  {
   "cell_type": "code",
   "execution_count": 5,
   "id": "b8a3a290",
   "metadata": {},
   "outputs": [],
   "source": [
    "a = PowerService()"
   ]
  },
  {
   "cell_type": "code",
   "execution_count": 7,
   "id": "78677d5d",
   "metadata": {},
   "outputs": [],
   "source": [
    "from System import DateTime\n",
    "\n",
    "d = DateTime.Today \n",
    "e = a.GetTrades(d)"
   ]
  },
  {
   "cell_type": "code",
   "execution_count": 9,
   "id": "322d3be7",
   "metadata": {},
   "outputs": [
    {
     "name": "stdout",
     "output_type": "stream",
     "text": [
      "<class 'Services.PowerTrade[]'>\n"
     ]
    }
   ],
   "source": [
    "print(type(e))"
   ]
  },
  {
   "cell_type": "code",
   "execution_count": 8,
   "id": "07b30c30",
   "metadata": {},
   "outputs": [
    {
     "name": "stdout",
     "output_type": "stream",
     "text": [
      "3\n"
     ]
    }
   ],
   "source": [
    "print(len(e))"
   ]
  },
  {
   "cell_type": "code",
   "execution_count": 50,
   "id": "56c1f370",
   "metadata": {},
   "outputs": [
    {
     "name": "stdout",
     "output_type": "stream",
     "text": [
      "22/09/2022 00:00:00 1 1.2081000028215814\n",
      "22/09/2022 00:00:00 2 728.676467076259\n",
      "22/09/2022 00:00:00 3 335.76684227947464\n",
      "22/09/2022 00:00:00 4 523.8140707480786\n",
      "22/09/2022 00:00:00 5 819.0417707986393\n",
      "22/09/2022 00:00:00 6 221.11486281320214\n",
      "22/09/2022 00:00:00 7 178.1566707315653\n",
      "22/09/2022 00:00:00 8 794.6008843344641\n",
      "22/09/2022 00:00:00 9 384.98110761166606\n",
      "22/09/2022 00:00:00 10 680.4657954166018\n",
      "22/09/2022 00:00:00 11 624.7912122052122\n",
      "22/09/2022 00:00:00 12 767.0589162814705\n",
      "22/09/2022 00:00:00 13 291.3858873263867\n",
      "22/09/2022 00:00:00 14 233.64453680517363\n",
      "22/09/2022 00:00:00 15 398.884181118982\n",
      "22/09/2022 00:00:00 16 730.6959888575115\n",
      "22/09/2022 00:00:00 17 148.5720347373616\n",
      "22/09/2022 00:00:00 18 338.7817811867138\n",
      "22/09/2022 00:00:00 19 599.1871974427194\n",
      "22/09/2022 00:00:00 20 452.23887099523046\n",
      "22/09/2022 00:00:00 21 538.3432943086807\n",
      "22/09/2022 00:00:00 22 306.967281413715\n",
      "22/09/2022 00:00:00 23 507.0692396289992\n",
      "22/09/2022 00:00:00 24 293.7726817530453\n",
      "22/09/2022 00:00:00 1 799.2263495918486\n",
      "22/09/2022 00:00:00 2 101.60677139722127\n",
      "22/09/2022 00:00:00 3 858.3427140760899\n",
      "22/09/2022 00:00:00 4 282.1583516347028\n",
      "22/09/2022 00:00:00 5 240.41076295096929\n",
      "22/09/2022 00:00:00 6 376.8504845801976\n",
      "22/09/2022 00:00:00 7 781.8236876194476\n",
      "22/09/2022 00:00:00 8 153.48754783789047\n",
      "22/09/2022 00:00:00 9 972.8016056925067\n",
      "22/09/2022 00:00:00 10 798.5621312626461\n",
      "22/09/2022 00:00:00 11 394.18192924660724\n",
      "22/09/2022 00:00:00 12 240.77404161951227\n",
      "22/09/2022 00:00:00 13 849.6375334680255\n",
      "22/09/2022 00:00:00 14 245.8916000304239\n",
      "22/09/2022 00:00:00 15 282.10988188260694\n",
      "22/09/2022 00:00:00 16 337.6755348116511\n",
      "22/09/2022 00:00:00 17 786.8876614546812\n",
      "22/09/2022 00:00:00 18 990.2404532722385\n",
      "22/09/2022 00:00:00 19 206.60721566835755\n",
      "22/09/2022 00:00:00 20 343.69535946459297\n",
      "22/09/2022 00:00:00 21 655.3010468628728\n",
      "22/09/2022 00:00:00 22 899.0228585428664\n",
      "22/09/2022 00:00:00 23 51.98285451716876\n",
      "22/09/2022 00:00:00 24 929.7289754868154\n",
      "22/09/2022 00:00:00 1 961.7627668016416\n",
      "22/09/2022 00:00:00 2 659.7766069042387\n",
      "22/09/2022 00:00:00 3 634.5442080099807\n",
      "22/09/2022 00:00:00 4 48.56790557902674\n",
      "22/09/2022 00:00:00 5 90.1249908330501\n",
      "22/09/2022 00:00:00 6 691.4177605376661\n",
      "22/09/2022 00:00:00 7 556.7358827948273\n",
      "22/09/2022 00:00:00 8 509.52389580641125\n",
      "22/09/2022 00:00:00 9 121.43331259555804\n",
      "22/09/2022 00:00:00 10 327.5769265962657\n",
      "22/09/2022 00:00:00 11 541.4986659500277\n",
      "22/09/2022 00:00:00 12 796.3523090800048\n",
      "22/09/2022 00:00:00 13 436.3179898058614\n",
      "22/09/2022 00:00:00 14 68.00985153206152\n",
      "22/09/2022 00:00:00 15 971.347756204823\n",
      "22/09/2022 00:00:00 16 673.806205239988\n",
      "22/09/2022 00:00:00 17 114.54195441424007\n",
      "22/09/2022 00:00:00 18 317.5207159097869\n",
      "22/09/2022 00:00:00 19 645.7388017539581\n",
      "22/09/2022 00:00:00 20 128.80516570471468\n",
      "22/09/2022 00:00:00 21 59.780582813443885\n",
      "22/09/2022 00:00:00 22 887.9764223880956\n",
      "22/09/2022 00:00:00 23 999.636721331457\n",
      "22/09/2022 00:00:00 24 527.212951112172\n"
     ]
    }
   ],
   "source": [
    "for i in e:\n",
    "    for x in i.Periods:\n",
    "        print(i.Date, x.Period, x.Volume)"
   ]
  },
  {
   "cell_type": "code",
   "execution_count": 7,
   "id": "0bd21f11",
   "metadata": {},
   "outputs": [
    {
     "name": "stdout",
     "output_type": "stream",
     "text": [
      "2012-02-12 01:30:00\n",
      "21/09/2022 00:00:00\n",
      "<class 'System.DateTime'>\n",
      "01/04/2015 00:00:00\n",
      "<class 'System.DateTime'>\n"
     ]
    }
   ],
   "source": [
    "from System import DateTime\n",
    "\n",
    "import datetime\n",
    "my_date = datetime.datetime(2012, 2, 12)\n",
    "my_time = datetime.time(1, 30)\n",
    "combined_datetime = my_date.combine(my_date, my_time)\n",
    "\n",
    "d = DateTime.Today \n",
    "l = DateTime(2015, 4, 1, 0, 0, 0)\n",
    "\n",
    "print(combined_datetime)\n",
    "print(d)\n",
    "print(type(d))\n",
    "print(l)\n",
    "print(type(l))"
   ]
  }
 ],
 "metadata": {
  "kernelspec": {
   "display_name": "Python 3 (ipykernel)",
   "language": "python",
   "name": "python3"
  },
  "language_info": {
   "codemirror_mode": {
    "name": "ipython",
    "version": 3
   },
   "file_extension": ".py",
   "mimetype": "text/x-python",
   "name": "python",
   "nbconvert_exporter": "python",
   "pygments_lexer": "ipython3",
   "version": "3.7.13"
  }
 },
 "nbformat": 4,
 "nbformat_minor": 5
}
